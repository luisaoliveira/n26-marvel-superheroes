{
  "cells": [
    {
      "cell_type": "markdown",
      "metadata": {
        "id": "IjbGMTmOidpV"
      },
      "source": [
        "# Bibliotecas para obter os dados, tratar e exibir os dados"
      ]
    },
    {
      "cell_type": "code",
      "execution_count": null,
      "metadata": {
        "id": "QAQp6RUdUQZW"
      },
      "outputs": [],
      "source": [
        "import hashlib\n",
        "import requests\n",
        "import pandas as pd"
      ]
    },
    {
      "cell_type": "code",
      "execution_count": null,
      "metadata": {
        "id": "6Ki8MoTTUUYU"
      },
      "outputs": [],
      "source": [
        "# dados utilizados na url de requisicao\n",
        "privateKey = \"\" # coloque aqui a sua chave privada\n",
        "publicKey = \"\" # coloque aqui a sua chave pública\n",
        "ts = \"1\""
      ]
    },
    {
      "cell_type": "code",
      "execution_count": null,
      "metadata": {
        "id": "EvdlZCdpUgN_"
      },
      "outputs": [],
      "source": [
        "# tratamento para produzir o hash\n",
        "hash = (ts+privateKey+publicKey).encode()\n",
        "hash = hashlib.md5(hash)\n",
        "hashResult = hash.hexdigest()"
      ]
    },
    {
      "cell_type": "markdown",
      "metadata": {
        "id": "tVT3Puqqjwe5"
      },
      "source": [
        "# Requisição de todas as páginas para obtermos todos os personagens"
      ]
    },
    {
      "cell_type": "code",
      "execution_count": null,
      "metadata": {
        "id": "UcfbJ7ZvV4TP"
      },
      "outputs": [],
      "source": [
        "# retorna todos os personagens fazendo a chamada de varias paginas \n",
        "def get_jobs():\n",
        "  offset = 0\n",
        "  url = f\"https://gateway.marvel.com:443/v1/public/characters?limit=100&offset={offset}&ts={ts}&apikey={publicKey}&hash={hashResult}\"\n",
        "  first_page = requests.get(url).json()\n",
        "  yield first_page\n",
        "  total = first_page[\"data\"][\"total\"]\n",
        "  count = first_page[\"data\"][\"count\"]\n",
        "\n",
        "  while offset < total:\n",
        "      offset += count\n",
        "      url = f\"https://gateway.marvel.com:443/v1/public/characters?limit=100&offset={offset}&ts={ts}&apikey={publicKey}&hash={hashResult}\"\n",
        "      next_page = requests.get(url).json()\n",
        "      yield next_page # retorna a pagina e volta pra esse ponto caso a funcao seja chamada novamente \n",
        "      count = first_page[\"data\"][\"count\"]"
      ]
    },
    {
      "cell_type": "code",
      "execution_count": null,
      "metadata": {
        "id": "cHRIVOJBUNTl"
      },
      "outputs": [],
      "source": [
        "superhero = dict()\n",
        "superheroes = []\n",
        "\n",
        "# obtem apenas os dados desejados dos personagens de cada pagina\n",
        "for page in get_jobs():\n",
        "  data = page[\"data\"][\"results\"]\n",
        "  for characters in data:\n",
        "    superhero[\"id\"] = characters[\"id\"]\n",
        "    superhero[\"name\"] = characters[\"name\"]\n",
        "    superhero[\"description\"] = characters[\"description\"]\n",
        "    superhero[\"comics\"] = characters[\"comics\"][\"available\"]\n",
        "    superhero[\"series\"] = characters[\"series\"][\"available\"]\n",
        "    superhero[\"stories\"] = characters[\"stories\"][\"available\"] \n",
        "    superhero[\"events\"] = characters[\"events\"][\"available\"]\n",
        "    superheroes.append(superhero.copy())"
      ]
    },
    {
      "cell_type": "markdown",
      "metadata": {
        "id": "sN2Gu5tGkLVF"
      },
      "source": [
        "# Passamos a lista para dataframe e fazemos a exibição"
      ]
    },
    {
      "cell_type": "code",
      "execution_count": null,
      "metadata": {
        "id": "MSo0IaIET1Gz"
      },
      "outputs": [],
      "source": [
        "df = pd.DataFrame(superheroes)"
      ]
    },
    {
      "cell_type": "code",
      "execution_count": null,
      "metadata": {
        "colab": {
          "base_uri": "https://localhost:8080/",
          "height": 423
        },
        "id": "W0vuSxMOiAAY",
        "outputId": "b2ebd0ef-690c-49ca-8bd6-d00fa6da8ca5"
      },
      "outputs": [
        {
          "data": {
            "text/html": [
              "\n",
              "  <div id=\"df-85df3347-baa0-4451-b6d1-8ccf79270a7e\">\n",
              "    <div class=\"colab-df-container\">\n",
              "      <div>\n",
              "<style scoped>\n",
              "    .dataframe tbody tr th:only-of-type {\n",
              "        vertical-align: middle;\n",
              "    }\n",
              "\n",
              "    .dataframe tbody tr th {\n",
              "        vertical-align: top;\n",
              "    }\n",
              "\n",
              "    .dataframe thead th {\n",
              "        text-align: right;\n",
              "    }\n",
              "</style>\n",
              "<table border=\"1\" class=\"dataframe\">\n",
              "  <thead>\n",
              "    <tr style=\"text-align: right;\">\n",
              "      <th></th>\n",
              "      <th>id</th>\n",
              "      <th>name</th>\n",
              "      <th>description</th>\n",
              "      <th>comics</th>\n",
              "      <th>series</th>\n",
              "      <th>stories</th>\n",
              "      <th>events</th>\n",
              "    </tr>\n",
              "  </thead>\n",
              "  <tbody>\n",
              "    <tr>\n",
              "      <th>0</th>\n",
              "      <td>1011334</td>\n",
              "      <td>3-D Man</td>\n",
              "      <td></td>\n",
              "      <td>12</td>\n",
              "      <td>3</td>\n",
              "      <td>21</td>\n",
              "      <td>1</td>\n",
              "    </tr>\n",
              "    <tr>\n",
              "      <th>1</th>\n",
              "      <td>1017100</td>\n",
              "      <td>A-Bomb (HAS)</td>\n",
              "      <td>Rick Jones has been Hulk's best bud since day ...</td>\n",
              "      <td>4</td>\n",
              "      <td>2</td>\n",
              "      <td>7</td>\n",
              "      <td>0</td>\n",
              "    </tr>\n",
              "    <tr>\n",
              "      <th>2</th>\n",
              "      <td>1009144</td>\n",
              "      <td>A.I.M.</td>\n",
              "      <td>AIM is a terrorist organization bent on destro...</td>\n",
              "      <td>53</td>\n",
              "      <td>36</td>\n",
              "      <td>57</td>\n",
              "      <td>0</td>\n",
              "    </tr>\n",
              "    <tr>\n",
              "      <th>3</th>\n",
              "      <td>1010699</td>\n",
              "      <td>Aaron Stack</td>\n",
              "      <td></td>\n",
              "      <td>14</td>\n",
              "      <td>3</td>\n",
              "      <td>27</td>\n",
              "      <td>0</td>\n",
              "    </tr>\n",
              "    <tr>\n",
              "      <th>4</th>\n",
              "      <td>1009146</td>\n",
              "      <td>Abomination (Emil Blonsky)</td>\n",
              "      <td>Formerly known as Emil Blonsky, a spy of Sovie...</td>\n",
              "      <td>55</td>\n",
              "      <td>27</td>\n",
              "      <td>65</td>\n",
              "      <td>1</td>\n",
              "    </tr>\n",
              "    <tr>\n",
              "      <th>...</th>\n",
              "      <td>...</td>\n",
              "      <td>...</td>\n",
              "      <td>...</td>\n",
              "      <td>...</td>\n",
              "      <td>...</td>\n",
              "      <td>...</td>\n",
              "      <td>...</td>\n",
              "    </tr>\n",
              "    <tr>\n",
              "      <th>1557</th>\n",
              "      <td>1011515</td>\n",
              "      <td>Zeus</td>\n",
              "      <td>Zeus ruled a peaceful Olympus for centuries wh...</td>\n",
              "      <td>36</td>\n",
              "      <td>13</td>\n",
              "      <td>43</td>\n",
              "      <td>0</td>\n",
              "    </tr>\n",
              "    <tr>\n",
              "      <th>1558</th>\n",
              "      <td>1011127</td>\n",
              "      <td>Zodiak</td>\n",
              "      <td>Twelve demons merged with Norman Harrison, who...</td>\n",
              "      <td>1</td>\n",
              "      <td>1</td>\n",
              "      <td>1</td>\n",
              "      <td>0</td>\n",
              "    </tr>\n",
              "    <tr>\n",
              "      <th>1559</th>\n",
              "      <td>1009741</td>\n",
              "      <td>Zombie (Simon Garth)</td>\n",
              "      <td>War hero Simon Garth was turned into a zombie ...</td>\n",
              "      <td>1</td>\n",
              "      <td>1</td>\n",
              "      <td>1</td>\n",
              "      <td>0</td>\n",
              "    </tr>\n",
              "    <tr>\n",
              "      <th>1560</th>\n",
              "      <td>1011183</td>\n",
              "      <td>Zuras</td>\n",
              "      <td>Zuras was once the leader of the Eternals.</td>\n",
              "      <td>3</td>\n",
              "      <td>3</td>\n",
              "      <td>3</td>\n",
              "      <td>0</td>\n",
              "    </tr>\n",
              "    <tr>\n",
              "      <th>1561</th>\n",
              "      <td>1009742</td>\n",
              "      <td>Zzzax</td>\n",
              "      <td>A chain reaction in an atomic reactor, a resul...</td>\n",
              "      <td>5</td>\n",
              "      <td>4</td>\n",
              "      <td>6</td>\n",
              "      <td>0</td>\n",
              "    </tr>\n",
              "  </tbody>\n",
              "</table>\n",
              "<p>1562 rows × 7 columns</p>\n",
              "</div>\n",
              "      <button class=\"colab-df-convert\" onclick=\"convertToInteractive('df-85df3347-baa0-4451-b6d1-8ccf79270a7e')\"\n",
              "              title=\"Convert this dataframe to an interactive table.\"\n",
              "              style=\"display:none;\">\n",
              "        \n",
              "  <svg xmlns=\"http://www.w3.org/2000/svg\" height=\"24px\"viewBox=\"0 0 24 24\"\n",
              "       width=\"24px\">\n",
              "    <path d=\"M0 0h24v24H0V0z\" fill=\"none\"/>\n",
              "    <path d=\"M18.56 5.44l.94 2.06.94-2.06 2.06-.94-2.06-.94-.94-2.06-.94 2.06-2.06.94zm-11 1L8.5 8.5l.94-2.06 2.06-.94-2.06-.94L8.5 2.5l-.94 2.06-2.06.94zm10 10l.94 2.06.94-2.06 2.06-.94-2.06-.94-.94-2.06-.94 2.06-2.06.94z\"/><path d=\"M17.41 7.96l-1.37-1.37c-.4-.4-.92-.59-1.43-.59-.52 0-1.04.2-1.43.59L10.3 9.45l-7.72 7.72c-.78.78-.78 2.05 0 2.83L4 21.41c.39.39.9.59 1.41.59.51 0 1.02-.2 1.41-.59l7.78-7.78 2.81-2.81c.8-.78.8-2.07 0-2.86zM5.41 20L4 18.59l7.72-7.72 1.47 1.35L5.41 20z\"/>\n",
              "  </svg>\n",
              "      </button>\n",
              "      \n",
              "  <style>\n",
              "    .colab-df-container {\n",
              "      display:flex;\n",
              "      flex-wrap:wrap;\n",
              "      gap: 12px;\n",
              "    }\n",
              "\n",
              "    .colab-df-convert {\n",
              "      background-color: #E8F0FE;\n",
              "      border: none;\n",
              "      border-radius: 50%;\n",
              "      cursor: pointer;\n",
              "      display: none;\n",
              "      fill: #1967D2;\n",
              "      height: 32px;\n",
              "      padding: 0 0 0 0;\n",
              "      width: 32px;\n",
              "    }\n",
              "\n",
              "    .colab-df-convert:hover {\n",
              "      background-color: #E2EBFA;\n",
              "      box-shadow: 0px 1px 2px rgba(60, 64, 67, 0.3), 0px 1px 3px 1px rgba(60, 64, 67, 0.15);\n",
              "      fill: #174EA6;\n",
              "    }\n",
              "\n",
              "    [theme=dark] .colab-df-convert {\n",
              "      background-color: #3B4455;\n",
              "      fill: #D2E3FC;\n",
              "    }\n",
              "\n",
              "    [theme=dark] .colab-df-convert:hover {\n",
              "      background-color: #434B5C;\n",
              "      box-shadow: 0px 1px 3px 1px rgba(0, 0, 0, 0.15);\n",
              "      filter: drop-shadow(0px 1px 2px rgba(0, 0, 0, 0.3));\n",
              "      fill: #FFFFFF;\n",
              "    }\n",
              "  </style>\n",
              "\n",
              "      <script>\n",
              "        const buttonEl =\n",
              "          document.querySelector('#df-85df3347-baa0-4451-b6d1-8ccf79270a7e button.colab-df-convert');\n",
              "        buttonEl.style.display =\n",
              "          google.colab.kernel.accessAllowed ? 'block' : 'none';\n",
              "\n",
              "        async function convertToInteractive(key) {\n",
              "          const element = document.querySelector('#df-85df3347-baa0-4451-b6d1-8ccf79270a7e');\n",
              "          const dataTable =\n",
              "            await google.colab.kernel.invokeFunction('convertToInteractive',\n",
              "                                                     [key], {});\n",
              "          if (!dataTable) return;\n",
              "\n",
              "          const docLinkHtml = 'Like what you see? Visit the ' +\n",
              "            '<a target=\"_blank\" href=https://colab.research.google.com/notebooks/data_table.ipynb>data table notebook</a>'\n",
              "            + ' to learn more about interactive tables.';\n",
              "          element.innerHTML = '';\n",
              "          dataTable['output_type'] = 'display_data';\n",
              "          await google.colab.output.renderOutput(dataTable, element);\n",
              "          const docLink = document.createElement('div');\n",
              "          docLink.innerHTML = docLinkHtml;\n",
              "          element.appendChild(docLink);\n",
              "        }\n",
              "      </script>\n",
              "    </div>\n",
              "  </div>\n",
              "  "
            ],
            "text/plain": [
              "           id                        name  \\\n",
              "0     1011334                     3-D Man   \n",
              "1     1017100                A-Bomb (HAS)   \n",
              "2     1009144                      A.I.M.   \n",
              "3     1010699                 Aaron Stack   \n",
              "4     1009146  Abomination (Emil Blonsky)   \n",
              "...       ...                         ...   \n",
              "1557  1011515                        Zeus   \n",
              "1558  1011127                      Zodiak   \n",
              "1559  1009741        Zombie (Simon Garth)   \n",
              "1560  1011183                       Zuras   \n",
              "1561  1009742                       Zzzax   \n",
              "\n",
              "                                            description  comics  series  \\\n",
              "0                                                            12       3   \n",
              "1     Rick Jones has been Hulk's best bud since day ...       4       2   \n",
              "2     AIM is a terrorist organization bent on destro...      53      36   \n",
              "3                                                            14       3   \n",
              "4     Formerly known as Emil Blonsky, a spy of Sovie...      55      27   \n",
              "...                                                 ...     ...     ...   \n",
              "1557  Zeus ruled a peaceful Olympus for centuries wh...      36      13   \n",
              "1558  Twelve demons merged with Norman Harrison, who...       1       1   \n",
              "1559  War hero Simon Garth was turned into a zombie ...       1       1   \n",
              "1560         Zuras was once the leader of the Eternals.       3       3   \n",
              "1561  A chain reaction in an atomic reactor, a resul...       5       4   \n",
              "\n",
              "      stories  events  \n",
              "0          21       1  \n",
              "1           7       0  \n",
              "2          57       0  \n",
              "3          27       0  \n",
              "4          65       1  \n",
              "...       ...     ...  \n",
              "1557       43       0  \n",
              "1558        1       0  \n",
              "1559        1       0  \n",
              "1560        3       0  \n",
              "1561        6       0  \n",
              "\n",
              "[1562 rows x 7 columns]"
            ]
          },
          "execution_count": 7,
          "metadata": {},
          "output_type": "execute_result"
        }
      ],
      "source": [
        "df"
      ]
    },
    {
      "cell_type": "markdown",
      "metadata": {
        "id": "pg9HoQqZkTx_"
      },
      "source": [
        "# Fazer o dowload dos dados em arquivo csv"
      ]
    },
    {
      "cell_type": "code",
      "execution_count": null,
      "metadata": {
        "id": "uIa3lAIRd5kL"
      },
      "outputs": [],
      "source": [
        "path ='/superhero.csv'\n",
        "df.to_csv(path)"
      ]
    },
    {
      "cell_type": "code",
      "execution_count": null,
      "metadata": {
        "colab": {
          "base_uri": "https://localhost:8080/",
          "height": 17
        },
        "id": "V-8Vb1kJgsLq",
        "outputId": "e93a0e33-dbfb-4737-beab-77ef0c7cd86b"
      },
      "outputs": [
        {
          "data": {
            "application/javascript": "\n    async function download(id, filename, size) {\n      if (!google.colab.kernel.accessAllowed) {\n        return;\n      }\n      const div = document.createElement('div');\n      const label = document.createElement('label');\n      label.textContent = `Downloading \"${filename}\": `;\n      div.appendChild(label);\n      const progress = document.createElement('progress');\n      progress.max = size;\n      div.appendChild(progress);\n      document.body.appendChild(div);\n\n      const buffers = [];\n      let downloaded = 0;\n\n      const channel = await google.colab.kernel.comms.open(id);\n      // Send a message to notify the kernel that we're ready.\n      channel.send({})\n\n      for await (const message of channel.messages) {\n        // Send a message to notify the kernel that we're ready.\n        channel.send({})\n        if (message.buffers) {\n          for (const buffer of message.buffers) {\n            buffers.push(buffer);\n            downloaded += buffer.byteLength;\n            progress.value = downloaded;\n          }\n        }\n      }\n      const blob = new Blob(buffers, {type: 'application/binary'});\n      const a = document.createElement('a');\n      a.href = window.URL.createObjectURL(blob);\n      a.download = filename;\n      div.appendChild(a);\n      a.click();\n      div.remove();\n    }\n  ",
            "text/plain": [
              "<IPython.core.display.Javascript object>"
            ]
          },
          "metadata": {},
          "output_type": "display_data"
        },
        {
          "data": {
            "application/javascript": "download(\"download_58dae9df-92ae-49b7-bcfb-23743d225f3f\", \"superhero.csv\", 121700)",
            "text/plain": [
              "<IPython.core.display.Javascript object>"
            ]
          },
          "metadata": {},
          "output_type": "display_data"
        }
      ],
      "source": [
        "# Como estamos usando o Colab, precisamos fazer o import da biblioteca\n",
        "from google.colab import files\n",
        "files.download(path) "
      ]
    }
  ],
  "metadata": {
    "colab": {
      "provenance": []
    },
    "kernelspec": {
      "display_name": "Python 3",
      "name": "python3"
    },
    "language_info": {
      "name": "python"
    }
  },
  "nbformat": 4,
  "nbformat_minor": 0
}
